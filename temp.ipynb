{
 "cells": [
  {
   "cell_type": "code",
   "execution_count": 25,
   "metadata": {},
   "outputs": [],
   "source": [
    "import pandas as pd\n",
    "import numpy as np\n",
    "import random\n",
    "import utils\n",
    "import os"
   ]
  },
  {
   "cell_type": "code",
   "execution_count": 22,
   "metadata": {},
   "outputs": [],
   "source": [
    "seed = 123\n",
    "mean, var = 56.18-1, 61490.90\n",
    "log_mu, log_sigma = utils.lognorm_params(mean, var)\n",
    "rand_p, clus_p = 0.002, 0.008/(mean+1)"
   ]
  },
  {
   "cell_type": "code",
   "execution_count": 41,
   "metadata": {},
   "outputs": [],
   "source": [
    "df = pd.read_csv('./data/london_data/MAC000018.csv')"
   ]
  },
  {
   "cell_type": "code",
   "execution_count": 42,
   "metadata": {},
   "outputs": [
    {
     "data": {
      "text/plain": [
       "(Index(['DateTime', 'KWh'], dtype='object'), 39055)"
      ]
     },
     "execution_count": 42,
     "metadata": {},
     "output_type": "execute_result"
    }
   ],
   "source": [
    "df.columns, len(df)"
   ]
  },
  {
   "cell_type": "code",
   "execution_count": 43,
   "metadata": {},
   "outputs": [],
   "source": [
    "idx_to_nan = []\n",
    "# Creating clusters of missing datapoints\n",
    "num_clus = int(len(df) * clus_p) + random.randint(-int(len(df) * clus_p * 0.1), int(len(df) * clus_p * 0.1))\n",
    "for j in range(num_clus):\n",
    "    length = int(np.ceil(random.lognormvariate(mu = log_mu, sigma = log_sigma))+1)\n",
    "    while True:\n",
    "        conflict = False\n",
    "        idx_sample = random.randint(0, len(df) - length)\n",
    "        for idx in range(idx_sample, idx_sample + length):\n",
    "            if idx in idx_to_nan or idx-1 in idx_to_nan or idx+1 in idx_to_nan:\n",
    "                conflict = True\n",
    "                break\n",
    "        if not conflict:\n",
    "            for idx in range(idx_sample, idx_sample + length):\n",
    "                idx_to_nan.append(idx)\n",
    "            break\n",
    "\n",
    "# Creating random missing datapoints\n",
    "num_rand = int(len(df) * rand_p) + random.randint(-int(len(df) * rand_p * 0.1), int(len(df) * rand_p * 0.1))\n",
    "for j in range(num_rand):\n",
    "    while True:\n",
    "        idx = random.randint(0, len(df) - length)\n",
    "        if idx in idx_to_nan or idx-1 in idx_to_nan or idx+1 in idx_to_nan:\n",
    "            continue\n",
    "        idx_to_nan.append(idx)\n",
    "        break"
   ]
  },
  {
   "cell_type": "code",
   "execution_count": 44,
   "metadata": {},
   "outputs": [],
   "source": [
    "for idx in idx_to_nan:\n",
    "    df.iloc[idx, [1]] = [np.nan]"
   ]
  },
  {
   "cell_type": "code",
   "execution_count": 37,
   "metadata": {},
   "outputs": [
    {
     "data": {
      "text/html": [
       "<div>\n",
       "<style scoped>\n",
       "    .dataframe tbody tr th:only-of-type {\n",
       "        vertical-align: middle;\n",
       "    }\n",
       "\n",
       "    .dataframe tbody tr th {\n",
       "        vertical-align: top;\n",
       "    }\n",
       "\n",
       "    .dataframe thead th {\n",
       "        text-align: right;\n",
       "    }\n",
       "</style>\n",
       "<table border=\"1\" class=\"dataframe\">\n",
       "  <thead>\n",
       "    <tr style=\"text-align: right;\">\n",
       "      <th></th>\n",
       "      <th>DateTime</th>\n",
       "      <th>KWh</th>\n",
       "    </tr>\n",
       "  </thead>\n",
       "  <tbody>\n",
       "    <tr>\n",
       "      <th>0</th>\n",
       "      <td>2011-12-07 09:30:00</td>\n",
       "      <td>0.303</td>\n",
       "    </tr>\n",
       "    <tr>\n",
       "      <th>1</th>\n",
       "      <td>2011-12-07 10:00:00</td>\n",
       "      <td>0.2</td>\n",
       "    </tr>\n",
       "    <tr>\n",
       "      <th>2</th>\n",
       "      <td>2011-12-07 10:30:00</td>\n",
       "      <td>0.218</td>\n",
       "    </tr>\n",
       "    <tr>\n",
       "      <th>3</th>\n",
       "      <td>2011-12-07 11:00:00</td>\n",
       "      <td>0.209</td>\n",
       "    </tr>\n",
       "    <tr>\n",
       "      <th>4</th>\n",
       "      <td>2011-12-07 11:30:00</td>\n",
       "      <td>0.21</td>\n",
       "    </tr>\n",
       "    <tr>\n",
       "      <th>...</th>\n",
       "      <td>...</td>\n",
       "      <td>...</td>\n",
       "    </tr>\n",
       "    <tr>\n",
       "      <th>39050</th>\n",
       "      <td>2014-02-27 22:00:00</td>\n",
       "      <td>0.376</td>\n",
       "    </tr>\n",
       "    <tr>\n",
       "      <th>39051</th>\n",
       "      <td>2014-02-27 22:30:00</td>\n",
       "      <td>0.379</td>\n",
       "    </tr>\n",
       "    <tr>\n",
       "      <th>39052</th>\n",
       "      <td>2014-02-27 23:00:00</td>\n",
       "      <td>0.382</td>\n",
       "    </tr>\n",
       "    <tr>\n",
       "      <th>39053</th>\n",
       "      <td>2014-02-27 23:30:00</td>\n",
       "      <td>0.383</td>\n",
       "    </tr>\n",
       "    <tr>\n",
       "      <th>39054</th>\n",
       "      <td>2014-02-28 00:00:00</td>\n",
       "      <td>0.38</td>\n",
       "    </tr>\n",
       "  </tbody>\n",
       "</table>\n",
       "<p>39055 rows × 2 columns</p>\n",
       "</div>"
      ],
      "text/plain": [
       "                  DateTime      KWh\n",
       "0      2011-12-07 09:30:00   0.303 \n",
       "1      2011-12-07 10:00:00     0.2 \n",
       "2      2011-12-07 10:30:00   0.218 \n",
       "3      2011-12-07 11:00:00   0.209 \n",
       "4      2011-12-07 11:30:00    0.21 \n",
       "...                    ...      ...\n",
       "39050  2014-02-27 22:00:00   0.376 \n",
       "39051  2014-02-27 22:30:00   0.379 \n",
       "39052  2014-02-27 23:00:00   0.382 \n",
       "39053  2014-02-27 23:30:00   0.383 \n",
       "39054  2014-02-28 00:00:00    0.38 \n",
       "\n",
       "[39055 rows x 2 columns]"
      ]
     },
     "execution_count": 37,
     "metadata": {},
     "output_type": "execute_result"
    }
   ],
   "source": [
    "df"
   ]
  },
  {
   "cell_type": "code",
   "execution_count": 46,
   "metadata": {},
   "outputs": [
    {
     "data": {
      "text/plain": [
       "571"
      ]
     },
     "execution_count": 46,
     "metadata": {},
     "output_type": "execute_result"
    }
   ],
   "source": [
    "df.isnull().values.sum()"
   ]
  },
  {
   "cell_type": "code",
   "execution_count": null,
   "metadata": {},
   "outputs": [],
   "source": []
  }
 ],
 "metadata": {
  "kernelspec": {
   "display_name": "Python 3",
   "language": "python",
   "name": "python3"
  },
  "language_info": {
   "codemirror_mode": {
    "name": "ipython",
    "version": 3
   },
   "file_extension": ".py",
   "mimetype": "text/x-python",
   "name": "python",
   "nbconvert_exporter": "python",
   "pygments_lexer": "ipython3",
   "version": "3.8.10"
  }
 },
 "nbformat": 4,
 "nbformat_minor": 2
}
